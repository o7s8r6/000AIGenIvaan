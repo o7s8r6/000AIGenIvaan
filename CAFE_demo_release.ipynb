{
  "cells": [
    {
      "cell_type": "markdown",
      "metadata": {
        "id": "view-in-github",
        "colab_type": "text"
      },
      "source": [
        "<a href=\"https://colab.research.google.com/github/o7s8r6/000AIGenIvaan/blob/main/CAFE_demo_release.ipynb\" target=\"_parent\"><img src=\"https://colab.research.google.com/assets/colab-badge.svg\" alt=\"Open In Colab\"/></a>"
      ]
    },
    {
      "cell_type": "markdown",
      "source": [
        "**In order to get the fastest predictions you need to enable GPUs for the notebook:**\n",
        "* Navigate to Edit→Notebook Settings\n",
        "* select GPU from the Hardware Accelerator drop-down\n",
        "(https://colab.research.google.com/notebooks/gpu.ipynb#scrollTo=oM_8ELnJq_wd)"
      ],
      "metadata": {
        "id": "YCVgWFmtF1U3"
      },
      "id": "YCVgWFmtF1U3"
    },
    {
      "cell_type": "code",
      "source": [
        "%load_ext autoreload\n",
        "%autoreload 2"
      ],
      "metadata": {
        "id": "Da3zn7I3GTjq"
      },
      "id": "Da3zn7I3GTjq",
      "execution_count": null,
      "outputs": []
    },
    {
      "cell_type": "code",
      "source": [
        "!pip install caafe"
      ],
      "metadata": {
        "colab": {
          "base_uri": "https://localhost:8080/"
        },
        "id": "xueyuGRpwGkH",
        "outputId": "37c86ab1-67f0-4c4c-956b-ddcb1a25e2a5"
      },
      "id": "xueyuGRpwGkH",
      "execution_count": null,
      "outputs": [
        {
          "output_type": "stream",
          "name": "stdout",
          "text": [
            "Looking in indexes: https://test.pypi.org/simple/, https://us-python.pkg.dev/colab-wheels/public/simple/, https://pypi.org/simple/\n",
            "Collecting caafe==0.1.1\n",
            "  Using cached https://test-files.pythonhosted.org/packages/08/af/82d04fb7dffb7d8dfc49d4eb9a77621f8aa02112e099fc23fc313e167a98/caafe-0.1.1-py3-none-any.whl (19 kB)\n",
            "Collecting openai (from caafe==0.1.1)\n",
            "  Downloading openai-0.27.7-py3-none-any.whl (71 kB)\n",
            "\u001b[2K     \u001b[90m━━━━━━━━━━━━━━━━━━━━━━━━━━━━━━━━━━━━━━━━\u001b[0m \u001b[32m72.0/72.0 kB\u001b[0m \u001b[31m3.6 MB/s\u001b[0m eta \u001b[36m0:00:00\u001b[0m\n",
            "\u001b[?25hRequirement already satisfied: kaggle in /usr/local/lib/python3.10/dist-packages (from caafe==0.1.1) (1.5.13)\n",
            "Collecting openml==0.12.0 (from caafe==0.1.1)\n",
            "  Downloading openml-0.12.0.tar.gz (116 kB)\n",
            "\u001b[2K     \u001b[90m━━━━━━━━━━━━━━━━━━━━━━━━━━━━━━━━━━━━━━━\u001b[0m \u001b[32m116.1/116.1 kB\u001b[0m \u001b[31m7.5 MB/s\u001b[0m eta \u001b[36m0:00:00\u001b[0m\n",
            "\u001b[?25h  Preparing metadata (setup.py) ... \u001b[?25l\u001b[?25hdone\n",
            "Collecting tabpfn (from caafe==0.1.1)\n",
            "  Downloading tabpfn-0.1.9-py3-none-any.whl (156 kB)\n",
            "\u001b[2K     \u001b[90m━━━━━━━━━━━━━━━━━━━━━━━━━━━━━━━━━━━━━━\u001b[0m \u001b[32m156.6/156.6 kB\u001b[0m \u001b[31m18.6 MB/s\u001b[0m eta \u001b[36m0:00:00\u001b[0m\n",
            "\u001b[?25hCollecting liac-arff>=2.4.0 (from openml==0.12.0->caafe==0.1.1)\n",
            "  Downloading liac-arff-2.5.0.tar.gz (13 kB)\n",
            "  Preparing metadata (setup.py) ... \u001b[?25l\u001b[?25hdone\n",
            "Collecting xmltodict (from openml==0.12.0->caafe==0.1.1)\n",
            "  Downloading xmltodict-0.13.0-py2.py3-none-any.whl (10.0 kB)\n",
            "Requirement already satisfied: requests in /usr/local/lib/python3.10/dist-packages (from openml==0.12.0->caafe==0.1.1) (2.27.1)\n",
            "Requirement already satisfied: scikit-learn>=0.18 in /usr/local/lib/python3.10/dist-packages (from openml==0.12.0->caafe==0.1.1) (1.2.2)\n",
            "Requirement already satisfied: python-dateutil in /usr/local/lib/python3.10/dist-packages (from openml==0.12.0->caafe==0.1.1) (2.8.2)\n",
            "Requirement already satisfied: pandas>=1.0.0 in /usr/local/lib/python3.10/dist-packages (from openml==0.12.0->caafe==0.1.1) (1.5.3)\n",
            "Requirement already satisfied: scipy>=0.13.3 in /usr/local/lib/python3.10/dist-packages (from openml==0.12.0->caafe==0.1.1) (1.10.1)\n",
            "Requirement already satisfied: numpy>=1.6.2 in /usr/local/lib/python3.10/dist-packages (from openml==0.12.0->caafe==0.1.1) (1.22.4)\n",
            "Collecting minio (from openml==0.12.0->caafe==0.1.1)\n",
            "  Downloading minio-7.1.14-py3-none-any.whl (77 kB)\n",
            "\u001b[2K     \u001b[90m━━━━━━━━━━━━━━━━━━━━━━━━━━━━━━━━━━━━━━━━\u001b[0m \u001b[32m77.2/77.2 kB\u001b[0m \u001b[31m11.5 MB/s\u001b[0m eta \u001b[36m0:00:00\u001b[0m\n",
            "\u001b[?25hRequirement already satisfied: pyarrow in /usr/local/lib/python3.10/dist-packages (from openml==0.12.0->caafe==0.1.1) (9.0.0)\n",
            "Requirement already satisfied: six>=1.10 in /usr/local/lib/python3.10/dist-packages (from kaggle->caafe==0.1.1) (1.16.0)\n",
            "Requirement already satisfied: certifi in /usr/local/lib/python3.10/dist-packages (from kaggle->caafe==0.1.1) (2022.12.7)\n",
            "Requirement already satisfied: tqdm in /usr/local/lib/python3.10/dist-packages (from kaggle->caafe==0.1.1) (4.65.0)\n",
            "Requirement already satisfied: python-slugify in /usr/local/lib/python3.10/dist-packages (from kaggle->caafe==0.1.1) (8.0.1)\n",
            "Requirement already satisfied: urllib3 in /usr/local/lib/python3.10/dist-packages (from kaggle->caafe==0.1.1) (1.26.15)\n",
            "Collecting aiohttp (from openai->caafe==0.1.1)\n",
            "  Downloading aiohttp-3.8.4-cp310-cp310-manylinux_2_17_x86_64.manylinux2014_x86_64.whl (1.0 MB)\n",
            "\u001b[2K     \u001b[90m━━━━━━━━━━━━━━━━━━━━━━━━━━━━━━━━━━━━━━━━\u001b[0m \u001b[32m1.0/1.0 MB\u001b[0m \u001b[31m35.3 MB/s\u001b[0m eta \u001b[36m0:00:00\u001b[0m\n",
            "\u001b[?25hRequirement already satisfied: pyyaml>=5.4.1 in /usr/local/lib/python3.10/dist-packages (from tabpfn->caafe==0.1.1) (6.0)\n",
            "Requirement already satisfied: torch>=1.9.0 in /usr/local/lib/python3.10/dist-packages (from tabpfn->caafe==0.1.1) (2.0.1+cu118)\n",
            "Requirement already satisfied: pytz>=2020.1 in /usr/local/lib/python3.10/dist-packages (from pandas>=1.0.0->openml==0.12.0->caafe==0.1.1) (2022.7.1)\n",
            "Requirement already satisfied: charset-normalizer~=2.0.0 in /usr/local/lib/python3.10/dist-packages (from requests->openml==0.12.0->caafe==0.1.1) (2.0.12)\n",
            "Requirement already satisfied: idna<4,>=2.5 in /usr/local/lib/python3.10/dist-packages (from requests->openml==0.12.0->caafe==0.1.1) (3.4)\n",
            "Requirement already satisfied: joblib>=1.1.1 in /usr/local/lib/python3.10/dist-packages (from scikit-learn>=0.18->openml==0.12.0->caafe==0.1.1) (1.2.0)\n",
            "Requirement already satisfied: threadpoolctl>=2.0.0 in /usr/local/lib/python3.10/dist-packages (from scikit-learn>=0.18->openml==0.12.0->caafe==0.1.1) (3.1.0)\n",
            "Requirement already satisfied: filelock in /usr/local/lib/python3.10/dist-packages (from torch>=1.9.0->tabpfn->caafe==0.1.1) (3.12.0)\n",
            "Requirement already satisfied: typing-extensions in /usr/local/lib/python3.10/dist-packages (from torch>=1.9.0->tabpfn->caafe==0.1.1) (4.5.0)\n",
            "Requirement already satisfied: sympy in /usr/local/lib/python3.10/dist-packages (from torch>=1.9.0->tabpfn->caafe==0.1.1) (1.11.1)\n",
            "Requirement already satisfied: networkx in /usr/local/lib/python3.10/dist-packages (from torch>=1.9.0->tabpfn->caafe==0.1.1) (3.1)\n",
            "Requirement already satisfied: jinja2 in /usr/local/lib/python3.10/dist-packages (from torch>=1.9.0->tabpfn->caafe==0.1.1) (3.1.2)\n",
            "Requirement already satisfied: triton==2.0.0 in /usr/local/lib/python3.10/dist-packages (from torch>=1.9.0->tabpfn->caafe==0.1.1) (2.0.0)\n",
            "Requirement already satisfied: cmake in /usr/local/lib/python3.10/dist-packages (from triton==2.0.0->torch>=1.9.0->tabpfn->caafe==0.1.1) (3.25.2)\n",
            "Requirement already satisfied: lit in /usr/local/lib/python3.10/dist-packages (from triton==2.0.0->torch>=1.9.0->tabpfn->caafe==0.1.1) (16.0.5)\n",
            "Requirement already satisfied: attrs>=17.3.0 in /usr/local/lib/python3.10/dist-packages (from aiohttp->openai->caafe==0.1.1) (23.1.0)\n",
            "Collecting multidict<7.0,>=4.5 (from aiohttp->openai->caafe==0.1.1)\n",
            "  Downloading multidict-6.0.4-cp310-cp310-manylinux_2_17_x86_64.manylinux2014_x86_64.whl (114 kB)\n",
            "\u001b[2K     \u001b[90m━━━━━━━━━━━━━━━━━━━━━━━━━━━━━━━━━━━━━━\u001b[0m \u001b[32m114.5/114.5 kB\u001b[0m \u001b[31m16.1 MB/s\u001b[0m eta \u001b[36m0:00:00\u001b[0m\n",
            "\u001b[?25hCollecting async-timeout<5.0,>=4.0.0a3 (from aiohttp->openai->caafe==0.1.1)\n",
            "  Downloading async_timeout-4.0.2-py3-none-any.whl (5.8 kB)\n",
            "Collecting yarl<2.0,>=1.0 (from aiohttp->openai->caafe==0.1.1)\n",
            "  Downloading yarl-1.9.2-cp310-cp310-manylinux_2_17_x86_64.manylinux2014_x86_64.whl (268 kB)\n",
            "\u001b[2K     \u001b[90m━━━━━━━━━━━━━━━━━━━━━━━━━━━━━━━━━━━━━━\u001b[0m \u001b[32m268.8/268.8 kB\u001b[0m \u001b[31m31.2 MB/s\u001b[0m eta \u001b[36m0:00:00\u001b[0m\n",
            "\u001b[?25hCollecting frozenlist>=1.1.1 (from aiohttp->openai->caafe==0.1.1)\n",
            "  Downloading frozenlist-1.3.3-cp310-cp310-manylinux_2_5_x86_64.manylinux1_x86_64.manylinux_2_17_x86_64.manylinux2014_x86_64.whl (149 kB)\n",
            "\u001b[2K     \u001b[90m━━━━━━━━━━━━━━━━━━━━━━━━━━━━━━━━━━━━━━\u001b[0m \u001b[32m149.6/149.6 kB\u001b[0m \u001b[31m19.6 MB/s\u001b[0m eta \u001b[36m0:00:00\u001b[0m\n",
            "\u001b[?25hCollecting aiosignal>=1.1.2 (from aiohttp->openai->caafe==0.1.1)\n",
            "  Downloading aiosignal-1.3.1-py3-none-any.whl (7.6 kB)\n",
            "Requirement already satisfied: text-unidecode>=1.3 in /usr/local/lib/python3.10/dist-packages (from python-slugify->kaggle->caafe==0.1.1) (1.3)\n",
            "Requirement already satisfied: MarkupSafe>=2.0 in /usr/local/lib/python3.10/dist-packages (from jinja2->torch>=1.9.0->tabpfn->caafe==0.1.1) (2.1.2)\n",
            "Requirement already satisfied: mpmath>=0.19 in /usr/local/lib/python3.10/dist-packages (from sympy->torch>=1.9.0->tabpfn->caafe==0.1.1) (1.3.0)\n",
            "Building wheels for collected packages: openml, liac-arff\n",
            "  Building wheel for openml (setup.py) ... \u001b[?25l\u001b[?25hdone\n",
            "  Created wheel for openml: filename=openml-0.12.0-py3-none-any.whl size=132451 sha256=a97c675b6f1f319027a67895a1fadd70e89ab2d13b79c31433cbb6fc72ad98a6\n",
            "  Stored in directory: /root/.cache/pip/wheels/12/e6/70/524ba51f9a88c468256ccea4c242eb0dea9def83c13c0389d3\n",
            "  Building wheel for liac-arff (setup.py) ... \u001b[?25l\u001b[?25hdone\n",
            "  Created wheel for liac-arff: filename=liac_arff-2.5.0-py3-none-any.whl size=11717 sha256=53b157ad01b677090d1cab138bc32f77276446a53fbc25b2f85b2387ca51da20\n",
            "  Stored in directory: /root/.cache/pip/wheels/5d/2a/9c/3895d9617f8f49a0883ba686326d598e78a1c2f54fe3cae86d\n",
            "Successfully built openml liac-arff\n",
            "Installing collected packages: xmltodict, multidict, minio, liac-arff, frozenlist, async-timeout, yarl, aiosignal, openml, aiohttp, openai, tabpfn, caafe\n",
            "Successfully installed aiohttp-3.8.4 aiosignal-1.3.1 async-timeout-4.0.2 caafe-0.1.1 frozenlist-1.3.3 liac-arff-2.5.0 minio-7.1.14 multidict-6.0.4 openai-0.27.7 openml-0.12.0 tabpfn-0.1.9 xmltodict-0.13.0 yarl-1.9.2\n"
          ]
        }
      ]
    },
    {
      "cell_type": "code",
      "execution_count": null,
      "id": "3c2770a9-abee-4790-ad55-9c6451320345",
      "metadata": {
        "id": "3c2770a9-abee-4790-ad55-9c6451320345",
        "colab": {
          "base_uri": "https://localhost:8080/"
        },
        "outputId": "b8426ec1-0c6f-4017-d616-003d6d1bcb3e"
      },
      "outputs": [
        {
          "output_type": "stream",
          "name": "stderr",
          "text": [
            "/usr/local/lib/python3.10/dist-packages/ipykernel/ipkernel.py:283: DeprecationWarning: `should_run_async` will not call `transform_cell` automatically in the future. Please pass the result to `transformed_cell` argument and any exception that happen during thetransform in `preprocessing_exc_tuple` in IPython 7.17 and above.\n",
            "  and should_run_async(code)\n"
          ]
        }
      ],
      "source": [
        "from caafe import CAAFEClassifier # Automated Feature Engineering for tabular datasets\n",
        "from tabpfn import TabPFNClassifier # Fast Automated Machine Learning method for small tabular datasets\n",
        "from sklearn.ensemble import RandomForestClassifier\n",
        "\n",
        "import os\n",
        "import openai\n",
        "import torch\n",
        "from caafe import data\n",
        "from sklearn.metrics import accuracy_score\n",
        "from tabpfn.scripts import tabular_metrics\n",
        "from functools import partial"
      ]
    },
    {
      "cell_type": "code",
      "source": [
        "openai.api_key = \"YOUR_API_KEY\""
      ],
      "metadata": {
        "id": "iM5FtVoLncW6"
      },
      "id": "iM5FtVoLncW6",
      "execution_count": null,
      "outputs": []
    },
    {
      "cell_type": "code",
      "execution_count": null,
      "id": "ba83bf99-e40a-441c-b0a0-e6767ef9ac2d",
      "metadata": {
        "id": "ba83bf99-e40a-441c-b0a0-e6767ef9ac2d",
        "outputId": "86c88202-7c56-42bf-e166-c5b70eeb3276",
        "colab": {
          "base_uri": "https://localhost:8080/"
        }
      },
      "outputs": [
        {
          "output_type": "stream",
          "name": "stdout",
          "text": [
            "Number of datasets: 10\n",
            "Loading balance-scale 11 ..\n",
            "Loading breast-w 15 ..\n",
            "Loading cmc 23 ..\n",
            "Loading credit-g 31 ..\n",
            "Loading diabetes 37 ..\n",
            "Loading tic-tac-toe 50 ..\n",
            "Loading eucalyptus 188 ..\n",
            "Loading pc1 1068 ..\n",
            "Loading airlines 1169 ..\n",
            "Loading jungle_chess_2pcs_raw_endgame_complete 41027 ..\n",
            "health-insurance-lead-prediction-raw-data at datasets_kaggle/health-insurance-lead-prediction-raw-data/Health Insurance Lead Prediction Raw Data.csv not found, skipping...\n",
            "pharyngitis at datasets_kaggle/pharyngitis/pharyngitis.csv not found, skipping...\n",
            "spaceship-titanic at datasets_kaggle/spaceship-titanic/train.csv not found, skipping...\n",
            "playground-series-s3e12 at datasets_kaggle/playground-series-s3e12/train.csv not found, skipping...\n",
            "Downsampling balance-scale to 20.0% of samples\n",
            "Downsampling breast-w to 10.0% of samples\n",
            "Downsampling tic-tac-toe to 10.0% of samples\n",
            "Using initial description (tried reading data//dataset_descriptions/openml_airlines.txt)\n"
          ]
        }
      ],
      "source": [
        "metric_used = tabular_metrics.auc_metric\n",
        "cc_test_datasets_multiclass = data.load_all_data()"
      ]
    },
    {
      "cell_type": "code",
      "source": [
        "ds = cc_test_datasets_multiclass[5]\n",
        "ds, df_train, df_test, _, _ = data.get_data_split(ds, seed=0)\n",
        "target_column_name = ds[4][-1]\n",
        "dataset_description = ds[-1]\n",
        "ds[0]"
      ],
      "metadata": {
        "id": "6TDRQfJ-Snb3",
        "colab": {
          "base_uri": "https://localhost:8080/",
          "height": 53
        },
        "outputId": "e975f759-5cea-4e95-c79e-e76cb8b39830"
      },
      "id": "6TDRQfJ-Snb3",
      "execution_count": null,
      "outputs": [
        {
          "output_type": "stream",
          "name": "stdout",
          "text": [
            "Using initial description (tried reading data//dataset_descriptions/openml_tic-tac-toe.txt)\n"
          ]
        },
        {
          "output_type": "execute_result",
          "data": {
            "text/plain": [
              "'tic-tac-toe'"
            ],
            "application/vnd.google.colaboratory.intrinsic+json": {
              "type": "string"
            }
          },
          "metadata": {},
          "execution_count": 7
        }
      ]
    },
    {
      "cell_type": "code",
      "source": [
        "from caafe.preprocessing import make_datasets_numeric\n",
        "df_train, df_test = make_datasets_numeric(df_train, df_test, target_column_name)\n",
        "train_x, train_y = data.get_X_y(df_train, target_column_name)\n",
        "test_x, test_y = data.get_X_y(df_test, target_column_name)"
      ],
      "metadata": {
        "colab": {
          "base_uri": "https://localhost:8080/"
        },
        "id": "EysqQd2MhrGw",
        "outputId": "2a72bac5-b4fc-4c23-891e-84b5e407cbb0"
      },
      "id": "EysqQd2MhrGw",
      "execution_count": null,
      "outputs": [
        {
          "output_type": "stream",
          "name": "stdout",
          "text": [
            "Loading model that can be used for inference only\n",
            "Using a Transformer with 25.82 M parameters\n",
            "Accuracy before CAAFE 0.5833333333333334\n"
          ]
        }
      ]
    },
    {
      "cell_type": "code",
      "source": [
        "### Setup Base Classifier\n",
        "\n",
        "# clf_no_feat_eng = RandomForestClassifier()\n",
        "clf_no_feat_eng = TabPFNClassifier(device=('cuda' if torch.cuda.is_available() else 'cpu'), N_ensemble_configurations=4)\n",
        "clf_no_feat_eng.fit = partial(clf_no_feat_eng.fit, overwrite_warning=True)\n",
        "\n",
        "clf_no_feat_eng.fit(train_x, train_y)\n",
        "pred = clf_no_feat_eng.predict(test_x)\n",
        "acc = accuracy_score(pred, test_y)\n",
        "print(f'Accuracy before CAAFE {acc}')"
      ],
      "metadata": {
        "id": "FOunYfSF4Vi3"
      },
      "id": "FOunYfSF4Vi3",
      "execution_count": null,
      "outputs": []
    },
    {
      "cell_type": "code",
      "source": [
        "### Setup and Run CAAFE - This will be billed to your OpenAI Account!\n",
        "\n",
        "caafe_clf = CAAFEClassifier(base_classifier=clf_no_feat_eng,\n",
        "                            llm_model=\"gpt-4\",\n",
        "                            iterations=2)\n",
        "\n",
        "caafe_clf.fit_pandas(df_train,\n",
        "                     target_column_name=target_column_name,\n",
        "                     dataset_description=dataset_description)\n",
        "\n",
        "pred = caafe_clf.predict(df_test)\n",
        "acc = accuracy_score(pred, test_y)\n",
        "print(f'Accuracy after CAAFE {acc}')"
      ],
      "metadata": {
        "id": "ZPSehtgSlVWg",
        "colab": {
          "base_uri": "https://localhost:8080/",
          "height": 502
        },
        "outputId": "69dd49d3-6efc-43c0-d4e4-4def87421af1"
      },
      "id": "ZPSehtgSlVWg",
      "execution_count": null,
      "outputs": [
        {
          "output_type": "display_data",
          "data": {
            "text/plain": [
              "<IPython.core.display.Markdown object>"
            ],
            "text/markdown": "*Dataset description:*\n **Tic-Tac-Toe Endgame database**  \nThis database encodes the complete set of possible board configurations at the end of tic-tac-toe games, where \"x\" is assumed to have played first.  The target concept is \"win for x\" (i.e., true when \"x\" has one of 8 possible ways to create a \"three-in-a-row\").  "
          },
          "metadata": {}
        },
        {
          "output_type": "display_data",
          "data": {
            "text/plain": [
              "<IPython.core.display.Markdown object>"
            ],
            "text/markdown": "\n*Iteration 1*\n```python\n\n# Feature name: row_win\n# Usefulness: This feature checks if there is a winning row for \"x\" in the tic-tac-toe board.\n# Input samples: 'top-left-square': [2.0, 2.0, 2.0], 'top-middle-square': [0.0, 0.0, 1.0], 'top-right-square': [1.0, 0.0, 1.0], ...\ndf['row_win'] = ((df['top-left-square'] == df['top-middle-square']) & (df['top-middle-square'] == df['top-right-square']) & (df['top-left-square'] == 1.0)) | \\\n                ((df['middle-left-square'] == df['middle-middle-square']) & (df['middle-middle-square'] == df['middle-right-square']) & (df['middle-left-square'] == 1.0)) | \\\n                ((df['bottom-left-square'] == df['bottom-middle-square']) & (df['bottom-middle-square'] == df['bottom-right-square']) & (df['bottom-left-square'] == 1.0))\n\n```\nPerformance before adding features ROC 0.732, ACC 0.596.\nPerformance after adding features ROC 0.732, ACC 0.691.\nImprovement ROC 0.000, ACC 0.094.\nThe code was executed and changes to ´df´ were kept.\n\n"
          },
          "metadata": {}
        },
        {
          "output_type": "display_data",
          "data": {
            "text/plain": [
              "<IPython.core.display.Markdown object>"
            ],
            "text/markdown": "\n*Iteration 2*\n```python\n\n# Feature name: col_win\n# Usefulness: This feature checks if there is a winning column for \"x\" in the tic-tac-toe board.\n# Input samples: 'top-left-square': [2.0, 2.0, 2.0], 'middle-left-square': [1.0, 0.0, 2.0], 'bottom-left-square': [2.0, 1.0, 1.0], ...\ndf['col_win'] = ((df['top-left-square'] == df['middle-left-square']) & (df['middle-left-square'] == df['bottom-left-square']) & (df['top-left-square'] == 1.0)) | \\\n                ((df['top-middle-square'] == df['middle-middle-square']) & (df['middle-middle-square'] == df['bottom-middle-square']) & (df['top-middle-square'] == 1.0)) | \\\n                ((df['top-right-square'] == df['middle-right-square']) & (df['middle-right-square'] == df['bottom-right-square']) & (df['top-right-square'] == 1.0))\n\n```\nPerformance before adding features ROC 0.732, ACC 0.691.\nPerformance after adding features ROC 0.831, ACC 0.781.\nImprovement ROC 0.099, ACC 0.091.\nThe code was executed and changes to ´df´ were kept.\n\n"
          },
          "metadata": {}
        },
        {
          "output_type": "stream",
          "name": "stdout",
          "text": [
            "Accuracy after CAAFE 0.7083333333333334\n"
          ]
        }
      ]
    },
    {
      "cell_type": "code",
      "source": [
        "print(caafe_clf.code)"
      ],
      "metadata": {
        "colab": {
          "base_uri": "https://localhost:8080/"
        },
        "id": "FA2qVWtIf9fe",
        "outputId": "17d41544-ef06-4373-a2e4-0efcdaefeebf"
      },
      "id": "FA2qVWtIf9fe",
      "execution_count": null,
      "outputs": [
        {
          "output_type": "stream",
          "name": "stdout",
          "text": [
            "\n",
            "# Feature name: row_win\n",
            "# Usefulness: This feature checks if there is a winning row for \"x\" in the tic-tac-toe board.\n",
            "# Input samples: 'top-left-square': [2.0, 2.0, 2.0], 'top-middle-square': [0.0, 0.0, 1.0], 'top-right-square': [1.0, 0.0, 1.0], ...\n",
            "df['row_win'] = ((df['top-left-square'] == df['top-middle-square']) & (df['top-middle-square'] == df['top-right-square']) & (df['top-left-square'] == 1.0)) | \\\n",
            "                ((df['middle-left-square'] == df['middle-middle-square']) & (df['middle-middle-square'] == df['middle-right-square']) & (df['middle-left-square'] == 1.0)) | \\\n",
            "                ((df['bottom-left-square'] == df['bottom-middle-square']) & (df['bottom-middle-square'] == df['bottom-right-square']) & (df['bottom-left-square'] == 1.0))\n",
            "\n",
            "# Feature name: col_win\n",
            "# Usefulness: This feature checks if there is a winning column for \"x\" in the tic-tac-toe board.\n",
            "# Input samples: 'top-left-square': [2.0, 2.0, 2.0], 'middle-left-square': [1.0, 0.0, 2.0], 'bottom-left-square': [2.0, 1.0, 1.0], ...\n",
            "df['col_win'] = ((df['top-left-square'] == df['middle-left-square']) & (df['middle-left-square'] == df['bottom-left-square']) & (df['top-left-square'] == 1.0)) | \\\n",
            "                ((df['top-middle-square'] == df['middle-middle-square']) & (df['middle-middle-square'] == df['bottom-middle-square']) & (df['top-middle-square'] == 1.0)) | \\\n",
            "                ((df['top-right-square'] == df['middle-right-square']) & (df['middle-right-square'] == df['bottom-right-square']) & (df['top-right-square'] == 1.0))\n",
            "\n"
          ]
        }
      ]
    },
    {
      "cell_type": "markdown",
      "source": [
        "### Optional download Kaggle data"
      ],
      "metadata": {
        "id": "yIvtLbpr4Kri"
      },
      "id": "yIvtLbpr4Kri"
    },
    {
      "cell_type": "code",
      "source": [
        "#!ls ~/.kaggle/kaggle.json\n",
        "\n",
        "!mkdir ~/.kaggle\n",
        "!touch ~/.kaggle/kaggle.json\n",
        "\n",
        "kaggle_api_token = {\"username\":\"\",\"key\":\"\"}\n",
        "\n",
        "import json\n",
        "with open('/root/.kaggle/kaggle.json', 'w') as file:\n",
        "    json.dump(kaggle_api_token, file)\n",
        "\n",
        "!chmod 600 ~/.kaggle/kaggle.json\n",
        "!mkdir datasets_kaggle/\n",
        "\n",
        "from caafe import data\n",
        "\n",
        "for (name, _, _, user) in data.kaggle_dataset_ids:\n",
        "    !kaggle datasets download -d {user}/{name}\n",
        "    !mkdir datasets_kaggle/{name}\n",
        "    !unzip {name}.zip -d datasets_kaggle/{name}\n",
        "\n",
        "# Accept rules at https://www.kaggle.com/c/spaceship-titanic/rules\n",
        "for name in data.kaggle_competition_ids:\n",
        "    print(name)\n",
        "    !kaggle competitions download -c {name}\n",
        "    !mkdir datasets_kaggle/{name}\n",
        "    !unzip {name}.zip -d datasets_kaggle/{name}"
      ],
      "metadata": {
        "id": "MZDQHMrgenGW"
      },
      "id": "MZDQHMrgenGW",
      "execution_count": null,
      "outputs": []
    }
  ],
  "metadata": {
    "kernelspec": {
      "display_name": "Python 3 (ipykernel)",
      "language": "python",
      "name": "python3"
    },
    "language_info": {
      "codemirror_mode": {
        "name": "ipython",
        "version": 3
      },
      "file_extension": ".py",
      "mimetype": "text/x-python",
      "name": "python",
      "nbconvert_exporter": "python",
      "pygments_lexer": "ipython3",
      "version": "3.9.6"
    },
    "colab": {
      "provenance": [],
      "gpuType": "T4",
      "collapsed_sections": [
        "yIvtLbpr4Kri"
      ],
      "include_colab_link": true
    },
    "accelerator": "GPU",
    "gpuClass": "standard"
  },
  "nbformat": 4,
  "nbformat_minor": 5
}